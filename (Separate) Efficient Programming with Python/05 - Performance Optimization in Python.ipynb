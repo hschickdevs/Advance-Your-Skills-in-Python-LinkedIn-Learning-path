{
 "cells": [
  {
   "cell_type": "markdown",
   "metadata": {},
   "source": [
    "### Time Profiling:\n",
    "\n",
    "Measuring the amount of time that it takes for various Python operations to complete.\n",
    "\n",
    "### Speeding up Python:\n",
    "\n",
    "- On the fly compilation: Numba and Theano\n",
    "- Compiled Python wtih types: Cython\n",
    "- Wrapped C or Fortran: SWIG, Boost.Python, and Python\n",
    "- Faster interpreter: PyPy\n",
    "\n",
    "### Memory Profiling:\n",
    "\n",
    " Interpreter manages memory automatically in Python.\n",
    "\n",
    " How to measure memory usage:"
   ]
  },
  {
   "cell_type": "code",
   "execution_count": 9,
   "metadata": {},
   "outputs": [
    {
     "name": "stdout",
     "output_type": "stream",
     "text": [
      "8448728\n",
      "8000112\n"
     ]
    }
   ],
   "source": [
    "import numpy as np\n",
    "\n",
    "vector_list = [float(i) for i in range(1000000)]\n",
    "vector_np = np.arange(0, 1000000, dtype='d')\n",
    "\n",
    "# How are these arrays different?\n",
    "print(sys.getsizeof(vector_list))\n",
    "print(sys.getsizeof(vector_np))\n",
    "# The Python list takes up more memory than the numpy array."
   ]
  },
  {
   "cell_type": "markdown",
   "metadata": {},
   "source": [
    "### Algorithm Complexity:\n",
    "\n",
    "Insertion sort: O(n^2)\n",
    "Quicksort: O(n log n)"
   ]
  },
  {
   "cell_type": "markdown",
   "metadata": {},
   "source": [
    "### Introduction to Parallel Programming:\n",
    "\n",
    "Multithreading vs. multiprocessing:\n",
    "\n",
    "- Multithreading: multiple threads of execution\n",
    "- Multiprocessing: Multiple copies of the same Python interpreter are running at the same time, but do not share memory; You use a multiprocessing \"pool\" of processes.\n",
    "\n",
    "Python tools for interactive parallel processing of big data:\n",
    "- Dask: Distributed computing framework for Python\n",
    "- PySpark: Python wrapper for the Apache distributed data processing engine"
   ]
  },
  {
   "cell_type": "markdown",
   "metadata": {},
   "source": [
    "### Parrallel Programming Enterprise Use Cases:\n",
    "\n",
    "- MapRedude: Programming model introduced by Google in which a very large dataset is split among processors, and each processor performs a specific task, then the results are aggregated for the final product."
   ]
  }
 ],
 "metadata": {
  "kernelspec": {
   "display_name": "Python 3.9.12 64-bit",
   "language": "python",
   "name": "python3"
  },
  "language_info": {
   "codemirror_mode": {
    "name": "ipython",
    "version": 3
   },
   "file_extension": ".py",
   "mimetype": "text/x-python",
   "name": "python",
   "nbconvert_exporter": "python",
   "pygments_lexer": "ipython3",
   "version": "3.9.12"
  },
  "orig_nbformat": 4,
  "vscode": {
   "interpreter": {
    "hash": "783ba5860f04b64b31a9cb1bf7b8722c5febb0d0e5a1e5052079e589e4c846a5"
   }
  }
 },
 "nbformat": 4,
 "nbformat_minor": 2
}
